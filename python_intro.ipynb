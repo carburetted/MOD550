{
 "cells": [
  {
   "cell_type": "markdown",
   "id": "6f7be9e7-0304-4081-9177-edddea51f796",
   "metadata": {},
   "source": [
    "# Introduction to Python\n",
    "\n",
    "## Python is an object oriented language.\n",
    "\n",
    " Everything in Python is an object.\n"
   ]
  },
  {
   "cell_type": "markdown",
   "id": "a7055f76-587f-4abf-96fe-63572f49510d",
   "metadata": {},
   "source": [
    "example:\n"
   ]
  },
  {
   "cell_type": "code",
   "execution_count": 28,
   "id": "1c92641e-c92e-4ffd-b80d-94bb1a0c5f93",
   "metadata": {},
   "outputs": [
    {
     "data": {
      "text/plain": [
       "5"
      ]
     },
     "execution_count": 28,
     "metadata": {},
     "output_type": "execute_result"
    }
   ],
   "source": [
    "a = 5\n",
    "\n",
    "a"
   ]
  },
  {
   "cell_type": "markdown",
   "id": "50bb661a-546c-4c73-9531-e93688502af6",
   "metadata": {},
   "source": [
    "What is a? An object, integer type."
   ]
  },
  {
   "cell_type": "code",
   "execution_count": 94,
   "id": "5fb72801-c0a5-48b4-af29-e9c170bd2bf0",
   "metadata": {},
   "outputs": [
    {
     "data": {
      "text/plain": [
       "'Hallo'"
      ]
     },
     "execution_count": 94,
     "metadata": {},
     "output_type": "execute_result"
    }
   ],
   "source": [
    "a = 'Hallo'\n",
    "a"
   ]
  },
  {
   "cell_type": "markdown",
   "id": "49e8273a-bcd6-48ef-9df8-930aa894b0c8",
   "metadata": {},
   "source": [
    "\n",
    "What is a? An object, string type."
   ]
  },
  {
   "cell_type": "code",
   "execution_count": 35,
   "id": "db468117-224b-420a-94be-2713a88a64a3",
   "metadata": {},
   "outputs": [
    {
     "data": {
      "text/plain": [
       "[[1, 2, 3], ['asd']]"
      ]
     },
     "execution_count": 35,
     "metadata": {},
     "output_type": "execute_result"
    }
   ],
   "source": [
    "# now: \n",
    "a = [1, 2, 3, 4]\n",
    "b = ['aa', 'ab', 'ac']\n",
    "c = [[1, 2, 3], ['asd']]\n",
    " \n",
    "c"
   ]
  },
  {
   "cell_type": "markdown",
   "id": "bc0f3105-c283-487d-b367-8fb47fab9560",
   "metadata": {},
   "source": [
    "\n",
    "What are a, b, c? Objects!, list of integer, list of strings and a mixed list of integer and strings lists.\n"
   ]
  },
  {
   "cell_type": "code",
   "execution_count": 85,
   "id": "f03d2c07-dbea-4e1a-8097-513dc760297d",
   "metadata": {},
   "outputs": [
    {
     "data": {
      "text/plain": [
       "{'a': 5, 'b': 7}"
      ]
     },
     "execution_count": 85,
     "metadata": {},
     "output_type": "execute_result"
    }
   ],
   "source": [
    "#And very imp in python...\n",
    "a = {'a': 5, 'b':7}\n",
    "a"
   ]
  },
  {
   "cell_type": "markdown",
   "id": "70e9e1f0-e5f4-4f78-ab48-4a9b20dab335",
   "metadata": {},
   "source": [
    "What is a? An object, dictionary type.\n"
   ]
  },
  {
   "cell_type": "markdown",
   "id": "4dbcf61c-5cdf-4403-a6d1-eda6edc1fe07",
   "metadata": {},
   "source": [
    "\n",
    "a = function()\n",
    "\n",
    "What is a? An object (we'll talk later about this)\n"
   ]
  },
  {
   "cell_type": "markdown",
   "id": "0937cb8d-4e33-414e-b00c-c4b2586b748d",
   "metadata": {},
   "source": [
    "\n",
    "a = Class()\n",
    "\n",
    "What is a? An object (we'll talk later about this)\n"
   ]
  },
  {
   "cell_type": "markdown",
   "id": "f345fb7f-b8d5-4993-9d26-a3d8eff8c881",
   "metadata": {},
   "source": [
    "\n",
    "The question is what type of object is it?\n",
    "\n",
    "answers: integer, string, list, tuple, dictionary, function, class\n",
    "test yourself with the function type(a) , after having given a value to a\n",
    " "
   ]
  },
  {
   "cell_type": "code",
   "execution_count": 95,
   "id": "bf1cb287",
   "metadata": {},
   "outputs": [],
   "source": [
    "# Check yourself, often\n",
    "a_list = [[1, 2, 3], ['asd'], [123, 43, 'rew']]\n",
    "\n",
    "\n",
    "simple_list = [4 ,6 , 8]\n",
    "simple_list = [4,\n",
    "               6,\n",
    "               8]\n",
    "\n",
    "a_list = [[1, 2, 3], [123, 43, 'rew'], [432, 344, 666], ['asd']]\n",
    "a_list = [[1, 2, 3], \n",
    "          [123, 43, 'rew'],\n",
    "          [432, 344, 666],\n",
    "          ['asd']]\n",
    "    \n",
    "franko = 3 \n",
    "\n",
    " "
   ]
  },
  {
   "cell_type": "markdown",
   "id": "9f3eed64-db62-47ec-a7ee-72733348cf3a",
   "metadata": {},
   "source": [
    "# Logical operations"
   ]
  },
  {
   "cell_type": "code",
   "execution_count": 116,
   "id": "cdd13ec1-a1fb-43ce-9a51-d722cbadc923",
   "metadata": {},
   "outputs": [
    {
     "data": {
      "text/plain": [
       "(True, False, False)"
      ]
     },
     "execution_count": 116,
     "metadata": {},
     "output_type": "execute_result"
    }
   ],
   "source": [
    "5 == 5, 3 > 9, 12 < 3"
   ]
  },
  {
   "cell_type": "code",
   "execution_count": 117,
   "id": "7db41fea-8460-484f-b608-ef4288b067d2",
   "metadata": {},
   "outputs": [
    {
     "data": {
      "text/plain": [
       "True"
      ]
     },
     "execution_count": 117,
     "metadata": {},
     "output_type": "execute_result"
    }
   ],
   "source": [
    "'fan' in 'fancy'"
   ]
  },
  {
   "cell_type": "code",
   "execution_count": 118,
   "id": "e39af583-44f5-4ab2-ba41-cdecf2f783fd",
   "metadata": {},
   "outputs": [
    {
     "data": {
      "text/plain": [
       "False"
      ]
     },
     "execution_count": 118,
     "metadata": {},
     "output_type": "execute_result"
    }
   ],
   "source": [
    "'wine' in 'bad for you'\n"
   ]
  },
  {
   "cell_type": "markdown",
   "id": "006d9245-af03-448a-9ef2-b88fe0f6bb44",
   "metadata": {},
   "source": [
    "## Loops"
   ]
  },
  {
   "cell_type": "code",
   "execution_count": 120,
   "id": "2c4c5ace-a2ed-4136-be19-cd70c4d5f05c",
   "metadata": {},
   "outputs": [
    {
     "name": "stdout",
     "output_type": "stream",
     "text": [
      "[1, 2, 3]\n",
      "[123, 43, 'rew']\n",
      "[432, 344, 666]\n",
      "['asd']\n"
     ]
    }
   ],
   "source": [
    "for item in a_list:\n",
    "    print(item)"
   ]
  },
  {
   "cell_type": "code",
   "execution_count": 105,
   "id": "53628d3a-0041-444d-aa04-2aabea1ed225",
   "metadata": {},
   "outputs": [
    {
     "ename": "AssertionError",
     "evalue": "",
     "output_type": "error",
     "traceback": [
      "\u001b[0;31m---------------------------------------------------------------------------\u001b[0m",
      "\u001b[0;31mAssertionError\u001b[0m                            Traceback (most recent call last)",
      "Cell \u001b[0;32mIn[105], line 6\u001b[0m\n\u001b[1;32m      3\u001b[0m \u001b[38;5;28;01melse\u001b[39;00m:\n\u001b[1;32m      4\u001b[0m     new_value \u001b[38;5;241m=\u001b[39m \u001b[38;5;241m123\u001b[39m\n\u001b[0;32m----> 6\u001b[0m \u001b[38;5;28;01massert\u001b[39;00m(new_value \u001b[38;5;241m==\u001b[39m \u001b[38;5;241m16\u001b[39m)\n\u001b[1;32m      8\u001b[0m new_value\n",
      "\u001b[0;31mAssertionError\u001b[0m: "
     ]
    }
   ],
   "source": [
    "if a_list[1] == [1, 2, 3]:\n",
    "    new_value = 16\n",
    "else:\n",
    "    new_value = 123\n",
    "\n",
    "assert(new_value == 16)\n",
    "\n",
    "new_value"
   ]
  },
  {
   "cell_type": "code",
   "execution_count": 104,
   "id": "4d832f94-ba21-441b-99b1-a7e3633ef181",
   "metadata": {},
   "outputs": [
    {
     "data": {
      "text/plain": [
       "[123, 43, 'rew']"
      ]
     },
     "execution_count": 104,
     "metadata": {},
     "output_type": "execute_result"
    }
   ],
   "source": []
  },
  {
   "cell_type": "code",
   "execution_count": null,
   "id": "f51cbbd9-1df8-493f-a1d8-4362951e47d9",
   "metadata": {},
   "outputs": [],
   "source": []
  },
  {
   "cell_type": "markdown",
   "id": "29d2bf22-b12c-4388-a0bb-cde70e23ca22",
   "metadata": {},
   "source": [
    "## (unit) Test driven programming"
   ]
  },
  {
   "cell_type": "code",
   "execution_count": 86,
   "id": "be720a8c-2a72-42e1-93b2-a018c4a2bd1a",
   "metadata": {},
   "outputs": [
    {
     "name": "stdout",
     "output_type": "stream",
     "text": [
      "4\n",
      "6\n",
      "8\n"
     ]
    },
    {
     "ename": "AssertionError",
     "evalue": "",
     "output_type": "error",
     "traceback": [
      "\u001b[0;31m---------------------------------------------------------------------------\u001b[0m",
      "\u001b[0;31mAssertionError\u001b[0m                            Traceback (most recent call last)",
      "Cell \u001b[0;32mIn[86], line 6\u001b[0m\n\u001b[1;32m      3\u001b[0m     \u001b[38;5;28mprint\u001b[39m(i)\n\u001b[1;32m      4\u001b[0m     count \u001b[38;5;241m+\u001b[39m\u001b[38;5;241m=\u001b[39m \u001b[38;5;241m1\u001b[39m\n\u001b[0;32m----> 6\u001b[0m \u001b[38;5;28;01massert\u001b[39;00m(count \u001b[38;5;241m==\u001b[39m \u001b[38;5;241m4\u001b[39m)\n\u001b[1;32m      9\u001b[0m \u001b[38;5;28mprint\u001b[39m(count)\n",
      "\u001b[0;31mAssertionError\u001b[0m: "
     ]
    }
   ],
   "source": [
    "count = 0\n",
    "for i in simple_list:\n",
    "    print(i)\n",
    "    count += 1\n",
    "\n",
    "assert(count == 4)\n",
    " \n",
    "\n",
    "print(count)"
   ]
  },
  {
   "cell_type": "code",
   "execution_count": 68,
   "id": "0fc7c621",
   "metadata": {},
   "outputs": [
    {
     "name": "stdout",
     "output_type": "stream",
     "text": [
      "foo [1, 2, 3]\n",
      "franko ['asd']\n",
      "a_name [123, 43, 'rew']\n",
      "is_it_true True\n"
     ]
    }
   ],
   "source": [
    "b_dict = {'foo':[1, 2, 3], 'franko':['asd'], 'a_name':[123, 43, 'rew'], 'advanced_stuff': 'Draw()', 'is_it_true': 1==1}\n",
    "b_dict = {'foo':[1, 2, 3],\n",
    "          'franko':['asd'], \n",
    "          'a_name':[123, 43, 'rew'],\n",
    "          # 'advanced_stuff': 'Draw()', \n",
    "          'is_it_true': 1==1}\n",
    "\n",
    "b_dict['franko']\n",
    "\n",
    "for i, j in b_dict.items():\n",
    "    print(i, j)"
   ]
  },
  {
   "cell_type": "code",
   "execution_count": 89,
   "id": "3561f1c8",
   "metadata": {},
   "outputs": [
    {
     "name": "stdout",
     "output_type": "stream",
     "text": [
      "good_news\n"
     ]
    }
   ],
   "source": [
    "# LOGICAL OPERATIONS\n",
    "\n",
    "# logical = 1 >= 10\n",
    "franko = 'death'\n",
    "\n",
    "# always left to right \n",
    "another_name = franko == 'death-ish'\n",
    "\n",
    "if another_name:\n",
    "    print('bye')\n",
    "else:\n",
    "    print('good_news')\n",
    "     \n"
   ]
  },
  {
   "cell_type": "markdown",
   "id": "ed0d63fa-00a3-4193-9b4b-860157b4867c",
   "metadata": {},
   "source": [
    "### Functions"
   ]
  },
  {
   "cell_type": "code",
   "execution_count": 93,
   "id": "b5e8cf2d-7691-404c-ac90-ed657d3470a9",
   "metadata": {},
   "outputs": [
    {
     "name": "stdout",
     "output_type": "stream",
     "text": [
      "NO!\n",
      "NO!\n"
     ]
    }
   ],
   "source": [
    "def fruit_counter(fruit1, fruit2):\n",
    "    fruits = fruit1 + fruit2 \n",
    "    return fruits\n",
    "\n",
    "\n",
    "def anotherone(talk_to_me):\n",
    "    print(talk_to_me)\n",
    "    return talk_to_me\n",
    "\n",
    "\n",
    "\n",
    "expected_fruits = 7\n",
    "\n",
    "output_fruits = fruit_counter(3, 4)\n",
    "\n",
    "assert(output_fruits == expected_fruits)\n",
    "output_fruits\n",
    "\n",
    "txt = 'NO!'\n",
    "anotherone(txt)\n",
    "assert(anotherone(txt) == txt) "
   ]
  },
  {
   "cell_type": "markdown",
   "id": "2ba2fa29-c4f9-4c61-94cd-06902e0d4545",
   "metadata": {},
   "source": [
    "### Let's explore a Class now!"
   ]
  },
  {
   "cell_type": "code",
   "execution_count": 71,
   "id": "ab799f49-0e9f-41b2-858c-23b63e6e0473",
   "metadata": {},
   "outputs": [],
   "source": [
    "class My_first_class():\n",
    "    def __init__(self, input_1, input_2, description ='My class'):\n",
    "        self.description = description\n",
    "        self.input_1 = input_1\n",
    "        self.input_2 = input_2\n",
    "\n",
    "    def talk_to_me(self):\n",
    "        print(f'Your class described as \"{self.description}\" has as input_1 and input_2 the values {self.input_1} and {self.input_2} ')\n",
    "    \n",
    "    def multiply_yourself(self, multiplier = 2):\n",
    "        self.input_1 = self.input_1 * multiplier\n",
    "        self.input_2 *= multiplier\n",
    "    \n",
    "    def some_function(self, smooth_operator='sum'):\n",
    "        if smooth_operator == 'sum':\n",
    "            result = self.input_1 + self.input_2\n",
    "        if smooth_operator == 'moltiplication':   # TERRIBLE LINE!!!  But it can happen, so...\n",
    "            result = self.input_1 * self.input_2\n",
    "\n",
    "        return result\n",
    "\n"
   ]
  },
  {
   "cell_type": "code",
   "execution_count": 72,
   "id": "9df708f7-cde5-4554-a0a1-a239401c6f48",
   "metadata": {},
   "outputs": [],
   "source": [
    "pippo = My_first_class(1, 2)"
   ]
  },
  {
   "cell_type": "code",
   "execution_count": 73,
   "id": "7b658eaf-0e20-4f9c-b802-b98866868418",
   "metadata": {},
   "outputs": [
    {
     "name": "stdout",
     "output_type": "stream",
     "text": [
      "Your class described as \"My class\" has as input_1 and input_2 the values 1 and 2 \n"
     ]
    }
   ],
   "source": [
    "pippo.talk_to_me()"
   ]
  },
  {
   "cell_type": "code",
   "execution_count": 74,
   "id": "d9ee769c-d6f9-4bd0-9574-a2db464541e8",
   "metadata": {},
   "outputs": [],
   "source": [
    "pippo.multiply_yourself()"
   ]
  },
  {
   "cell_type": "code",
   "execution_count": 75,
   "id": "05d1fb96-1e5c-4308-aa97-77cc38a89353",
   "metadata": {},
   "outputs": [
    {
     "name": "stdout",
     "output_type": "stream",
     "text": [
      "Your class described as \"My class\" has as input_1 and input_2 the values 2 and 4 \n"
     ]
    }
   ],
   "source": [
    "pippo.talk_to_me()"
   ]
  },
  {
   "cell_type": "markdown",
   "id": "ff27b1f8-36bc-4b46-93f3-ede63fb3cb60",
   "metadata": {},
   "source": [
    "## Functions DO specific things, classes ARE specific things\n",
    "## A class is a way of grouping functions (as methods) and data (as properties) into a logical unit\n"
   ]
  },
  {
   "cell_type": "markdown",
   "id": "f4ad3033-b367-4537-9386-6adab913b266",
   "metadata": {},
   "source": [
    "### The import functionality\n",
    "Import objects from other files (e.g. other python libraries)\n",
    "here we import an integer and a Class from the file learning.py that has to be present in this same folder\n",
    "\n",
    "We can use external libraries. Install them with pip! Much better if you create an environment first!\n",
    "Installing in python means copy some python files"
   ]
  },
  {
   "cell_type": "code",
   "execution_count": 87,
   "id": "10b82101-ea47-4391-aa03-9f1e93a5ae2b",
   "metadata": {},
   "outputs": [
    {
     "data": {
      "text/plain": [
       "(10, some_objects.demo)"
      ]
     },
     "execution_count": 87,
     "metadata": {},
     "output_type": "execute_result"
    }
   ],
   "source": [
    "from some_objects import aaa, demo\n",
    "\n",
    "aaa, demo"
   ]
  },
  {
   "cell_type": "code",
   "execution_count": null,
   "id": "38bd8788-8f55-4913-a6cf-672942c8058e",
   "metadata": {},
   "outputs": [],
   "source": []
  }
 ],
 "metadata": {
  "kernelspec": {
   "display_name": "Python 3 (ipykernel)",
   "language": "python",
   "name": "python3"
  },
  "language_info": {
   "codemirror_mode": {
    "name": "ipython",
    "version": 3
   },
   "file_extension": ".py",
   "mimetype": "text/x-python",
   "name": "python",
   "nbconvert_exporter": "python",
   "pygments_lexer": "ipython3",
   "version": "3.11.8"
  }
 },
 "nbformat": 4,
 "nbformat_minor": 5
}
