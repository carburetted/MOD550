{
 "cells": [
  {
   "cell_type": "markdown",
   "id": "6ea8dafd-1ff0-47c5-ab7a-5ba7eeac4dda",
   "metadata": {
    "scrolled": true
   },
   "source": [
    "# Unsupervised learning HANDS ON!\n",
    "\n",
    "Here an example on how to generate data in classes, and work on the data directly via their classes. "
   ]
  },
  {
   "cell_type": "markdown",
   "id": "8dd5a1f6-ee92-4a64-a016-fb16beec2266",
   "metadata": {},
   "source": [
    "#### Let's get back the class from the previous example"
   ]
  },
  {
   "cell_type": "code",
   "execution_count": 3,
   "id": "d7259890-3649-4ce2-94e6-87276622ee4c",
   "metadata": {},
   "outputs": [],
   "source": [
    "import numpy as np\n",
    "import matplotlib.pyplot as plt\n",
    "\n",
    "\n",
    "def make_distribution(n_points, range, distribution='normal'):\n",
    "    if distribution == 'normal':\n",
    "        data = np.random.randn(n_points) \n",
    "    else:\n",
    "        data = np.random.rand(n_points)  \n",
    "\n",
    "    data *= (range[1] - range[0]) \n",
    "    data += range[0]\n",
    "    return data\n",
    "    \n",
    "   \n",
    "class Data_generator():\n",
    "    def __init__(self, description='Data generator', data_settings={}):\n",
    "        self.description = description\n",
    "        self.n_points = data_settings.get('n_points')\n",
    "        self.x_range = data_settings.get('x_range', [-1, 1])\n",
    "        self.y_range = data_settings.get('y_range',  [-1, 1])\n",
    "        self.true_slope = data_settings.get('true_slope', 0)\n",
    "        self.true_intercept = data_settings.get('true_intercept', 0)\n",
    "        \n",
    "        self.data = None\n",
    "    \n",
    "    def generate_data(self, x_distribution='not_normal', y_distribution='not_normal'):    \n",
    "\n",
    "        x = make_distribution(self.n_points, self.x_range, x_distribution) \n",
    "        y = make_distribution(self.n_points, self.y_range, y_distribution) \n",
    "            \n",
    "        # Add 'perfect' data \n",
    "        y += self.true_slope * x + self.true_intercept\n",
    "                \n",
    "        self.data = [x, y]\n",
    "        \n",
    "        return self.data\n",
    "\n",
    "    def plot_me(self):\n",
    "        plt.scatter(self.data[0], self.data[1])\n",
    "        \n",
    "    def __add__(self, data_class):\n",
    "        self.data = np.append(self.data[0], data_class.data[0]), np.append(self.data[1], data_class.data[1])\n",
    "        return self.data\n",
    "        \n",
    "    def __str__(self):\n",
    "        return f'Class {self.description} for 2D data' "
   ]
  },
  {
   "cell_type": "code",
   "execution_count": 4,
   "id": "5782f1e7-f93d-416a-853c-d9ad1f1b3706",
   "metadata": {},
   "outputs": [
    {
     "data": {
      "image/png": "[encoded data removed]",
      "text/plain": [
       "<Figure size 640x480 with 1 Axes>"
      ]
     },
     "metadata": {},
     "output_type": "display_data"
    }
   ],
   "source": [
    "## And let's plot it for a random dataset\n",
    "data_settings = [{'n_points':  100, 'x_range': [ 366,  433], 'y_range': [  16,  433], 'true_slope':  1, 'true_intercept': 10},\n",
    "                 {'n_points':  100, 'x_range': [  66, 1433], 'y_range': [-366,  433], 'true_slope': -1, 'true_intercept': 10},\n",
    "                 {'n_points': 1000, 'x_range': [-566,  533], 'y_range': [ 366,  366], 'true_slope':  0, 'true_intercept':  0},\n",
    "                 {'n_points':  100, 'x_range': [ -36,  133], 'y_range': [   6,  433], 'true_slope':  0, 'true_intercept': 10},\n",
    "                 {'n_points':  100, 'x_range': [ 366,  433], 'y_range': [ 566,  633], 'true_slope':  0, 'true_intercept': 10}]\n",
    " \n",
    "my_classes = []\n",
    "for i in range(len(data_settings)):\n",
    "    my_classes.append(Data_generator(data_settings=data_settings[i]))\n",
    "    my_classes[-1].generate_data()\n",
    "    my_classes[-1].plot_me()"
   ]
  },
  {
   "cell_type": "code",
   "execution_count": null,
   "id": "4d897036-9ddc-4fe2-bf88-030a7809a37f",
   "metadata": {},
   "outputs": [],
   "source": []
  },
  {
   "cell_type": "markdown",
   "id": "f53bf256",
   "metadata": {},
   "source": [
    "### K-Means Clustering & Gaussian Mixture Modeling"
   ]
  },
  {
   "cell_type": "code",
   "execution_count": 1,
   "id": "3f8a13a4",
   "metadata": {},
   "outputs": [
    {
     "ename": "NameError",
     "evalue": "name 'my_classes' is not defined",
     "output_type": "error",
     "traceback": [
      "\u001b[0;31m---------------------------------------------------------------------------\u001b[0m",
      "\u001b[0;31mNameError\u001b[0m                                 Traceback (most recent call last)",
      "Cell \u001b[0;32mIn[1], line 5\u001b[0m\n\u001b[1;32m      2\u001b[0m \u001b[38;5;28;01mfrom\u001b[39;00m \u001b[38;5;21;01msklearn\u001b[39;00m\u001b[38;5;21;01m.\u001b[39;00m\u001b[38;5;21;01mcluster\u001b[39;00m \u001b[38;5;28;01mimport\u001b[39;00m KMeans\n\u001b[1;32m      3\u001b[0m \u001b[38;5;28;01mfrom\u001b[39;00m \u001b[38;5;21;01msklearn\u001b[39;00m\u001b[38;5;21;01m.\u001b[39;00m\u001b[38;5;21;01mmixture\u001b[39;00m \u001b[38;5;28;01mimport\u001b[39;00m GaussianMixture\n\u001b[0;32m----> 5\u001b[0m my_main_class \u001b[38;5;241m=\u001b[39m my_classes[\u001b[38;5;241m0\u001b[39m]\n\u001b[1;32m      6\u001b[0m \u001b[38;5;28;01mfor\u001b[39;00m i \u001b[38;5;129;01min\u001b[39;00m \u001b[38;5;28mrange\u001b[39m(\u001b[38;5;241m1\u001b[39m, \u001b[38;5;28mlen\u001b[39m(my_classes)):    \n\u001b[1;32m      7\u001b[0m     my_main_class \u001b[38;5;241m+\u001b[39m my_classes[i] \n",
      "\u001b[0;31mNameError\u001b[0m: name 'my_classes' is not defined"
     ]
    }
   ],
   "source": [
    "# !pip install scikit-learn\n",
    "from sklearn.cluster import KMeans\n",
    "from sklearn.mixture import GaussianMixture\n",
    "\n",
    "my_main_class = my_classes[0]\n",
    "for i in range(1, len(my_classes)):    \n",
    "    my_main_class + my_classes[i] \n",
    "my_main_class.plot_me()\n",
    "\n",
    "x = np.array(my_main_class.data).T\n",
    "\n",
    "# Apply K-means clustering\n",
    "kmeans = KMeans(n_clusters=4) \n",
    "kmeans.fit(data)\n",
    "labels_kmeans = kmeans.labels_\n",
    "\n",
    "# Apply Gaussian Mixture Model\n",
    "gmm = GaussianMixture(n_components=4)\n",
    "gmm.fit(data)\n",
    "labels_gmm = gmm.predict(data)\n",
    "\n",
    "\n",
    "plt.figure(figsize=(12, 6))\n",
    "plt.subplot(1, 2, 1)\n",
    "plt.scatter(data[:, 0], data[:, 1], c=labels_kmeans)\n",
    "plt.title('K-means Clustering')\n",
    "plt.subplot(1, 2, 2)\n",
    "plt.scatter(data[:, 0], data[:, 1], c=labels_gmm)\n",
    "plt.title('Gaussian Mixture Model')\n",
    "plt.show()"
   ]
  },
  {
   "cell_type": "markdown",
   "id": "51122525",
   "metadata": {},
   "source": [
    "###"
   ]
  }
 ],
 "metadata": {
  "kernelspec": {
   "display_name": "Python 3 (ipykernel)",
   "language": "python",
   "name": "python3"
  },
  "language_info": {
   "codemirror_mode": {
    "name": "ipython",
    "version": 3
   },
   "file_extension": ".py",
   "mimetype": "text/x-python",
   "name": "python",
   "nbconvert_exporter": "python",
   "pygments_lexer": "ipython3",
   "version": "3.11.11"
  }
 },
 "nbformat": 4,
 "nbformat_minor": 5
}
